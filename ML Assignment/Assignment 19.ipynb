{
 "cells": [
  {
   "attachments": {},
   "cell_type": "markdown",
   "id": "b2aa57f2",
   "metadata": {},
   "source": [
    "# Assignment 19 Solutions"
   ]
  },
  {
   "attachments": {},
   "cell_type": "markdown",
   "id": "111120c6",
   "metadata": {},
   "source": [
    "1. A set of one-dimensional data points is given to you: 5, 10, 15, 20, 25, 30, 35. Assume that k = 2 and that the first set of random centroid is 15, 32, and that the second set is 12, 30. ?\n",
    "1. Using the k-means method, create two clusters for each set of centroid described above.\n",
    "2. For each set of centroid values, calculate the SSE."
   ]
  },
  {
   "attachments": {},
   "cell_type": "markdown",
   "id": "4ae857d4",
   "metadata": {},
   "source": [
    "2. Describe how the Market Basket Research makes use of association analysis concepts ?\n",
    "\n",
    "Market Basket Analysis is one of the key techniques used by large retailers to uncover associations between items. It works by looking for combinations of items that occur together frequently in transactions. To put it another way, it allows retailers to identify relationships between the items that people buy. In market basket analysis (also called association analysis or frequent itemset mining), you analyze purchases that commonly happen together. For example, people who buy bread and peanut butter also buy jelly. Or people who buy shampoo might also buy conditioner.market basket analysis, association rules are used to predict the likelihood of products being purchased together. Association rules count the frequency of items that occur together, seeking to find associations that occur far more often than expected."
   ]
  },
  {
   "attachments": {},
   "cell_type": "markdown",
   "id": "2248385a",
   "metadata": {},
   "source": [
    "3. Give an example of the Apriori algorithm for learning association rules ?\n",
    "\n",
    "Apriori Algorithm is one of the algorithm used for transaction data in Association Rule Learning. It allows us to mine the frequent itemset in order to generate association rule between them. Example: list of items purchased by customers, details of website which are frequently visited etc.Association Rules. The Apriori algorithm calculates rules that express probabilistic relationships between items in frequent itemsets For example, a rule derived from frequent itemsets containing A, B, and C might state that if A and B are included in a transaction, then C is likely to also be included.classic example of association rule mining refers to a relationship between diapers and beers. The example, which seems to be fictional, claims that men who go to a store to buy diapers are also likely to buy beer. Data that would point to that might look like this: A supermarket has 200,000 customer transactions."
   ]
  },
  {
   "attachments": {},
   "cell_type": "markdown",
   "id": "07ab2a64",
   "metadata": {},
   "source": [
    "4. In hierarchical clustering, how is the distance between clusters measured? Explain how this metric is used to decide when to end the iteration ?\n",
    "\n",
    "In complete linkage hierarchical clustering, the distance between two clusters is defined as the longest distance between two points in each cluster. For example, the distance between clusters “r” and “s” to the left is equal to the length of the arrow between their two furthest points.Euclidean distance For most common clustering software, the default distance measure is the Euclidean distance. Depending on the type of the data and the researcher questions, other dissimilarity measures might be preferred. "
   ]
  },
  {
   "attachments": {},
   "cell_type": "markdown",
   "id": "0be2162e",
   "metadata": {},
   "source": [
    "5. In the k-means algorithm, how do you recompute the cluster centroids ?\n",
    "\n",
    "To calculate the centroid from the cluster table just get the position of all points of a single cluster, sum them up and divide by the number of points.k   means is one of the most popular clustering algorithms. K-means groups observations by minimizing distances between them and maximizing group distances. One of the primordial steps in this algorithm is centroid selection, in which k initial centroids are estimated either randomly, calculated, or given by the user.centroid is the imaginary or real location representing the center of the cluster. Every data point is allocated to each of the clusters through reducing the in-cluster sum of squares. "
   ]
  },
  {
   "attachments": {
    "image.png": {
     "image/png": "[encoded data removed]"
    }
   },
   "cell_type": "markdown",
   "id": "a96163dd",
   "metadata": {},
   "source": [
    "6. At the start of the clustering exercise, discuss one method for determining the required number of clusters ?\n",
    "\n",
    "1 Elbow method.\n",
    "2 X-means clustering. \n",
    "3 Information criterion approach. \n",
    "4 Information–theoretic approach. \n",
    "5 Silhouette method. \n",
    "6 Cross-validation. \n",
    "7 Finding number of clusters in text databases. \n",
    "8 Analyzing the kernel matrix. \n",
    "simple method to calculate the number of clusters is to set the value to about √(n/2) for a dataset of 'n' points. \n",
    "\n",
    "Elbow method  \n",
    "\n",
    "![image.png](attachment:image.png)\n",
    "\n",
    "The elbow method looks at the percentage of explained variance as a function of the number of clusters: One should choose a number of clusters so that adding another cluster doesn't give much better modeling of the data. More precisely, if one plots the percentage of variance explained by the clusters against the number of clusters, the first clusters will add much information (explain a lot of variance), but at some point the marginal gain will drop, giving an angle in the graph. The number of clusters is chosen at this point, hence the \"elbow criterion\". This \"elbow\" cannot always be unambiguously identified,[1] making this method very subjective and unreliable. Percentage of variance explained is the ratio of the between-group variance to the total variance, also known as an F-test. A slight variation of this method plots the curvature of the within group variance."
   ]
  },
  {
   "attachments": {},
   "cell_type": "markdown",
   "id": "6b3b649e",
   "metadata": {},
   "source": [
    "7. Discuss the k-means algorithm's advantages and disadvantages ?\n",
    "\n",
    "Below are the advantages mentioned:  \n",
    "It is fast Robust \n",
    "Easy to understand Comparatively efficient If data sets are distinct, then gives the best results \n",
    "Produce tighter clusters When centroids are recomputed, the cluster changes. \n",
    "Flexible Easy to interpret Better computational cost Enhances Accuracy Works better with spherical clusters  \n",
    "\n",
    "Disadvantage   \n",
    "Needs prior specification for the number of cluster centers If there are two highly overlapping data, then it cannot be distinguished and cannot tell that there are two clusters With the different representations of the data, the results achieved are also different Euclidean distance can unequally weigh the factors \n",
    "It gives the local optima of the squared error function Sometimes choosing the centroids randomly cannot give fruitful results \n",
    "It can be used only if the meaning is defined Cannot handle outliers and noisy data Do not work for the non-linear data set \n",
    "Lacks consistency Sensitive to scale If very large data sets are encountered, then the computer may crash. \n",
    "Prediction issues"
   ]
  },
  {
   "attachments": {
    "image.png": {
     "image/png": "[encoded data removed]"
    }
   },
   "cell_type": "markdown",
   "id": "54020cf8",
   "metadata": {},
   "source": [
    "8. Draw a diagram to demonstrate the principle of clustering ?\n",
    "\n",
    "![image.png](attachment:image.png)"
   ]
  },
  {
   "attachments": {},
   "cell_type": "markdown",
   "id": "9db681d1",
   "metadata": {},
   "source": [
    "9. During your study, you discovered seven findings, which are listed in the data points below. Using the K-means algorithm, you want to build three clusters from these observations. The clusters C1, C2, and C3 have the following findings after the first iteration ?\n",
    "- `C1: (2,2), (4,4), (6,6); C2: (2,2), (4,4), (6,6); C3: (2,2), (4,4),  `\n",
    "- `C2: (0,4), (4,0), (0,4), (0,4), (0,4), (0,4), (0,4), (0,4), (0,  `\n",
    "- `C3: (5,5) and (9,9) ` \n",
    "\n",
    "What would the cluster centroids be if you were to run a second iteration? What would this clustering's SSE be?\n",
    "\n",
    "Finding centroid for data points in cluster C1 = ((2+4+6)/3, (2+4+6)/3) = (4, 4)\n",
    "Finding centroid for data points in cluster C2 = ((0+4)/2, (4+0)/2) = (2, 2)\n",
    "Finding centroid for data points in cluster C3 = ((5+9)/2, (5+9)/2) = (7, 7)\n",
    "Hence, C1: (4,4), C2: (2,2), C3: (7,7)\n"
   ]
  },
  {
   "attachments": {},
   "cell_type": "markdown",
   "id": "5b686929",
   "metadata": {},
   "source": [
    "10. In a software project, the team is attempting to determine if software flaws discovered during testing are identical. Based on the text analytics of the defect details, they decided to build 5 clusters of related defects. Any new defect formed after the 5 clusters of defects have been identified must be listed as one of the forms identified by clustering. A simple diagram can be used to explain this process. Assume you have 20 defect data points that are clustered into 5 clusters and you used the k-means algorithm ?\n",
    "\n"
   ]
  }
 ],
 "metadata": {
  "kernelspec": {
   "display_name": "Python 3",
   "language": "python",
   "name": "python3"
  },
  "language_info": {
   "codemirror_mode": {
    "name": "ipython",
    "version": 3
   },
   "file_extension": ".py",
   "mimetype": "text/x-python",
   "name": "python",
   "nbconvert_exporter": "python",
   "pygments_lexer": "ipython3",
   "version": "3.8.8"
  }
 },
 "nbformat": 4,
 "nbformat_minor": 5
}
