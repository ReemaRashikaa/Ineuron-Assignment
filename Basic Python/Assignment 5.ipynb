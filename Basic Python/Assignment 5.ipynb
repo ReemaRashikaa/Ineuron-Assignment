{
 "cells": [
  {
   "cell_type": "markdown",
   "metadata": {},
   "source": [
    "1. What does an empty dictionary's code look like?\n",
    "\n",
    "An empty dictionary is often represented by a pair of curly brackets with no values within them.\n",
    "d = {} or d = dict()"
   ]
  },
  {
   "cell_type": "code",
   "execution_count": 1,
   "metadata": {},
   "outputs": [
    {
     "name": "stdout",
     "output_type": "stream",
     "text": [
      "Representation of dictionary :  {} \n",
      " Length of dictionary :  0 \n",
      " Type :  <class 'dict'>\n"
     ]
    }
   ],
   "source": [
    "d={}\n",
    "\n",
    "print(\"Representation of dictionary : \", d, \"\\n\", \"Length of dictionary : \", len(d), \"\\n\", \"Type : \", type(d))"
   ]
  },
  {
   "cell_type": "markdown",
   "metadata": {},
   "source": [
    "2. what is the value of dictionary value with key 'foo' and the value 42 ?\n",
    "\n",
    "dict_values([42])"
   ]
  },
  {
   "cell_type": "code",
   "execution_count": 2,
   "metadata": {},
   "outputs": [
    {
     "name": "stdout",
     "output_type": "stream",
     "text": [
      "Dictionary Values :  dict_values([42])\n"
     ]
    }
   ],
   "source": [
    "d = {'foo':42}\n",
    "print (\"Dictionary Values : \", d.values())"
   ]
  },
  {
   "cell_type": "markdown",
   "metadata": {},
   "source": [
    "3. What is the most significant distinction between a dictionary and a list?\n",
    "\n",
    "Dictionaries are represented by {} where as listed are represented by []. The Items stored in a dictionary are Unordered , while the items in a list are ordered.\n",
    "\n",
    "Lists are just like the arrays, declared in other languages. Lists need not be homogeneous always which makes it a most powerful tool in Python. A single list may contain DataTypes like Integers, Strings, as well as Objects. Lists are mutable, and hence, they can be altered even after their creation.\n",
    "\n",
    "Dictionary in Python on the other hand is an unordered collection of data values, used to store data values like a map, which unlike other Data Types that hold only single value as an element, Dictionary holds key:value pair. Key-value is provided in the dictionary to make it more optimized. Each key-value pair in a Dictionary is separated by a colon :, whereas each key is separated by a ‘comma’."
   ]
  },
  {
   "cell_type": "code",
   "execution_count": 3,
   "metadata": {},
   "outputs": [
    {
     "name": "stdout",
     "output_type": "stream",
     "text": [
      "Dictionary with the use of Integer Keys: \n",
      "{1: 'Abay', 2: 'Adhil', 3: 'Carlton'}\n",
      "List containing multiple values: \n",
      "['Samina', 'Nicholas', 'Leo']\n"
     ]
    }
   ],
   "source": [
    "#Dictionary\n",
    "Dict = {1: 'Abay', 2: 'Adhil', 3: 'Carlton'}\n",
    "print(\"Dictionary with the use of Integer Keys: \")\n",
    "print(Dict)\n",
    "\n",
    "#List\n",
    "List = [\"Samina\", \"Nicholas\", \"Leo\"]\n",
    "print(\"List containing multiple values: \")\n",
    "print(List) "
   ]
  },
  {
   "cell_type": "markdown",
   "metadata": {},
   "source": [
    "4. What happens if you try to access spam ['foo'] if spam is {'bar':100} ?\n",
    "\n",
    "we will get a keyError KeyError: 'foo'"
   ]
  },
  {
   "cell_type": "code",
   "execution_count": 4,
   "metadata": {},
   "outputs": [
    {
     "ename": "KeyError",
     "evalue": "'foo'",
     "output_type": "error",
     "traceback": [
      "\u001b[1;31m---------------------------------------------------------------------------\u001b[0m",
      "\u001b[1;31mKeyError\u001b[0m                                  Traceback (most recent call last)",
      "\u001b[1;32md:\\Reema - Ineuron\\Ineuron Assignment\\Basic Python\\Assignment 5.ipynb Cell 8\u001b[0m in \u001b[0;36m<cell line: 2>\u001b[1;34m()\u001b[0m\n\u001b[0;32m      <a href='vscode-notebook-cell:/d%3A/Reema%20-%20Ineuron/Ineuron%20Assignment/Basic%20Python/Assignment%205.ipynb#ch0000007?line=0'>1</a>\u001b[0m spam \u001b[39m=\u001b[39m {\u001b[39m'\u001b[39m\u001b[39mbar\u001b[39m\u001b[39m'\u001b[39m: \u001b[39m100\u001b[39m}\n\u001b[1;32m----> <a href='vscode-notebook-cell:/d%3A/Reema%20-%20Ineuron/Ineuron%20Assignment/Basic%20Python/Assignment%205.ipynb#ch0000007?line=1'>2</a>\u001b[0m spam [\u001b[39m'\u001b[39;49m\u001b[39mfoo\u001b[39;49m\u001b[39m'\u001b[39;49m]\n",
      "\u001b[1;31mKeyError\u001b[0m: 'foo'"
     ]
    }
   ],
   "source": [
    "spam = {'bar': 100}\n",
    "spam ['foo']"
   ]
  },
  {
   "cell_type": "markdown",
   "metadata": {},
   "source": [
    "5. If a dictionary is stored in spam,what is the difference between the expressions 'cat' in spam and 'cat' in spam.keys() ?\n",
    "\n",
    "There is no difference . The operator checks whether a value exits as a key in the dictionary or not."
   ]
  },
  {
   "cell_type": "markdown",
   "metadata": {},
   "source": [
    "6. If a dictionary is stored in spam,what is the difference between the expressions 'cat' in spam and 'cat' in spam.values() ?\n",
    "\n",
    "'cat' in spam checks whether there is a 'cat' key in the dictionary, while 'cat' in spam.values() checks whether there is a value 'cat' for one of the keys in spam."
   ]
  },
  {
   "cell_type": "markdown",
   "metadata": {},
   "source": [
    "7. what is a shortcut for the following code ?\n",
    "if 'color' not in spam:\n",
    "    spam['color'] ='black'\n",
    "\n",
    "spam.setdefault('color','black')"
   ]
  },
  {
   "cell_type": "markdown",
   "metadata": {},
   "source": [
    "8. How do you 'pretty print' dictionary values using which modules and function ?\n",
    "\n",
    "We can pretty print a dictionary using three functions\n",
    "\n",
    "by using pprint() function of pprint module\n",
    "Note: pprint() function doesnot prettify nested dictionaries\n",
    "by using dumps() method of json module\n",
    "by using dumps() method of yaml module"
   ]
  },
  {
   "cell_type": "code",
   "execution_count": 5,
   "metadata": {},
   "outputs": [
    {
     "name": "stdout",
     "output_type": "stream",
     "text": [
      "Printing using print() function\n",
      " [{'Name': 'Nicky', 'Age': '54', 'Residence': {'Country': 'Bangladesh', 'City': 'Dhaka'}}, {'Name': 'Pearson', 'Age': '23', 'Residence': {'Country': 'Spain', 'City': 'Madrid'}}, {'Name': 'Jack', 'Age': '26', 'Residence': {'Country': 'UK', 'City': 'England'}}]\n",
      "----------------------------------------------------------------------\n",
      "Printing using pprint() function\n",
      "[{'Age': '54',\n",
      "  'Name': 'Nicky',\n",
      "  'Residence': {'City': 'Dhaka', 'Country': 'Bangladesh'}},\n",
      " {'Age': '23',\n",
      "  'Name': 'Pearson',\n",
      "  'Residence': {'City': 'Madrid', 'Country': 'Spain'}},\n",
      " {'Age': '26',\n",
      "  'Name': 'Jack',\n",
      "  'Residence': {'City': 'England', 'Country': 'UK'}}]\n",
      "----------------------------------------------------------------------\n"
     ]
    }
   ],
   "source": [
    "d1 = [\n",
    "  {'Name': 'Nicky', 'Age': '54', 'Residence': {'Country':'Bangladesh', 'City': 'Dhaka'}},\n",
    "  {'Name': 'Pearson', 'Age': '23', 'Residence': {'Country':'Spain', 'City': 'Madrid'}},\n",
    "  {'Name': 'Jack', 'Age': '26', 'Residence': {'Country':'UK', 'City': 'England'}},\n",
    "  ]\n",
    "\n",
    "print('Printing using print() function\\n',d1)\n",
    "print('-'*70)\n",
    "import pprint\n",
    "print('Printing using pprint() function')\n",
    "pprint.pprint(d1)\n",
    "print('-'*70)\n"
   ]
  },
  {
   "cell_type": "code",
   "execution_count": 6,
   "metadata": {},
   "outputs": [
    {
     "name": "stdout",
     "output_type": "stream",
     "text": [
      "Printing using dumps() method\n",
      " [\n",
      "    {\n",
      "        \"Name\": \"Nicky\",\n",
      "        \"Age\": \"54\",\n",
      "        \"Residence\": {\n",
      "            \"Country\": \"Bangladesh\",\n",
      "            \"City\": \"Dhaka\"\n",
      "        }\n",
      "    },\n",
      "    {\n",
      "        \"Name\": \"Pearson\",\n",
      "        \"Age\": \"23\",\n",
      "        \"Residence\": {\n",
      "            \"Country\": \"Spain\",\n",
      "            \"City\": \"Madrid\"\n",
      "        }\n",
      "    },\n",
      "    {\n",
      "        \"Name\": \"Jack\",\n",
      "        \"Age\": \"26\",\n",
      "        \"Residence\": {\n",
      "            \"Country\": \"UK\",\n",
      "            \"City\": \"England\"\n",
      "        }\n",
      "    }\n",
      "]\n",
      "----------------------------------------------------------------------\n"
     ]
    }
   ],
   "source": [
    "import json\n",
    "dump = json.dumps(d1, indent=4)\n",
    "print('Printing using dumps() method\\n', dump)\n",
    "print('-'*70)\n"
   ]
  },
  {
   "cell_type": "code",
   "execution_count": 7,
   "metadata": {},
   "outputs": [
    {
     "name": "stdout",
     "output_type": "stream",
     "text": [
      "Printing using dump() method\n",
      " - Age: '54'\n",
      "  Name: Nicky\n",
      "  Residence:\n",
      "    City: Dhaka\n",
      "    Country: Bangladesh\n",
      "- Age: '23'\n",
      "  Name: Pearson\n",
      "  Residence:\n",
      "    City: Madrid\n",
      "    Country: Spain\n",
      "- Age: '26'\n",
      "  Name: Jack\n",
      "  Residence:\n",
      "    City: England\n",
      "    Country: UK\n",
      "\n"
     ]
    }
   ],
   "source": [
    "import yaml\n",
    "dump = yaml.dump(d1)\n",
    "print('Printing using dump() method\\n', dump)"
   ]
  }
 ],
 "metadata": {
  "kernelspec": {
   "display_name": "Python 3.10.3 64-bit",
   "language": "python",
   "name": "python3"
  },
  "language_info": {
   "codemirror_mode": {
    "name": "ipython",
    "version": 3
   },
   "file_extension": ".py",
   "mimetype": "text/x-python",
   "name": "python",
   "nbconvert_exporter": "python",
   "pygments_lexer": "ipython3",
   "version": "3.10.3"
  },
  "orig_nbformat": 4,
  "vscode": {
   "interpreter": {
    "hash": "2469a70536e4d2335a2ea8907942d0699c37342a371ac185bdb5b0aa6f073890"
   }
  }
 },
 "nbformat": 4,
 "nbformat_minor": 2
}
