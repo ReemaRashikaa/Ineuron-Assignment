{
 "cells": [
  {
   "cell_type": "markdown",
   "metadata": {},
   "source": [
    "1. If you have any, what are your choices for increasing the comparison between different figures on the same graph?\n",
    "\n",
    "Matplotlib provides a convenient method called subplots for increasing the comparison between different figures on the same graph. Subplots mean a group of smaller axes (where each axis is a plot) that can exist together within a single figure."
   ]
  },
  {
   "cell_type": "markdown",
   "metadata": {},
   "source": [
    "2. Can you explain the benefit of compound interest over a higher rate of interest that does not compound after reading this chapter?\n",
    "\n",
    "Compound interest makes a sum of money grow at a faster rate than simple interest,because in addition to earning returns on the money you invest, you also earn returns on those returns at the end of every compounding period, which could be daily, monthly, uarterly or annually."
   ]
  },
  {
   "cell_type": "markdown",
   "metadata": {},
   "source": [
    "3. What is a histogram, exactly? Name a numpy method for creating such a graph ?\n",
    "\n",
    "Histogram shows total values of X wrt Y. Which means at any particular position of X, Y value shows the total number of counts or data below that value of X. numpy.histogram() is the built in function used."
   ]
  },
  {
   "cell_type": "markdown",
   "metadata": {},
   "source": [
    "4. If necessary, how do you change the aspect ratios between the X and Y axes ?\n",
    "\n",
    "We can use figure(figsize=(10,8)) function inside the matplot.pyplot library which we scale down or up the graph."
   ]
  },
  {
   "cell_type": "markdown",
   "metadata": {},
   "source": [
    "5. Compare and contrast the three types of array multiplication between two numpy arrays: dot product, outer product, and regular multiplication of two numpy arrays ?\n",
    "\n",
    "In regular multiplication values of same index get multiplied.\n",
    "\n",
    "In dot product there is row wise multiplication, row of one array with column of second array and so on.\n",
    "In outer multiplication every element of first array a1 will be multiply by every element of other array a2 such such the number of columns will be eual to the number of element in another array a2."
   ]
  },
  {
   "cell_type": "markdown",
   "metadata": {},
   "source": [
    "6. Before you buy a home, which numpy function will you use to measure your monthly mortgage payment ?\n",
    "\n",
    "np.pmt(rate, nper, pv) function we will be using in order to calculate monthly mortgage payment before you purchase a house.\n",
    "\n",
    "rate = The periodic interest rate\n",
    "nper = The number of payment periods\n",
    "pv = The total value of the mortgage loan"
   ]
  },
  {
   "cell_type": "markdown",
   "metadata": {},
   "source": [
    "7. Can string data be stored in numpy arrays? If so, list at least one restriction that applies to this data ?\n",
    "\n",
    "Yes, an array can store the string. The limitation which imposed on the string data is, whenever we store the data of string dtype then it should should keep in mind that the string which is having the maximum length is the limit."
   ]
  }
 ],
 "metadata": {
  "language_info": {
   "name": "python"
  },
  "orig_nbformat": 4
 },
 "nbformat": 4,
 "nbformat_minor": 2
}
